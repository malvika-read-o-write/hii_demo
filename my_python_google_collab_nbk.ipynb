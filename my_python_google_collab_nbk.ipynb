{
  "nbformat": 4,
  "nbformat_minor": 0,
  "metadata": {
    "colab": {
      "name": "my python google collab nbk.ipynb",
      "provenance": [],
      "authorship_tag": "ABX9TyP4k78GDhj7S2tja0SK2ruN",
      "include_colab_link": true
    },
    "kernelspec": {
      "name": "python3",
      "display_name": "Python 3"
    },
    "language_info": {
      "name": "python"
    }
  },
  "cells": [
    {
      "cell_type": "markdown",
      "metadata": {
        "id": "view-in-github",
        "colab_type": "text"
      },
      "source": [
        "<a href=\"https://colab.research.google.com/github/mia-readowrite/hii_demo/blob/master/my_python_google_collab_nbk.ipynb\" target=\"_parent\"><img src=\"https://colab.research.google.com/assets/colab-badge.svg\" alt=\"Open In Colab\"/></a>"
      ]
    },
    {
      "cell_type": "code",
      "execution_count": 1,
      "metadata": {
        "colab": {
          "base_uri": "https://localhost:8080/"
        },
        "id": "Qv8sFIfIivcN",
        "outputId": "a6aee839-3709-4e07-9917-4583fc59e7e4"
      },
      "outputs": [
        {
          "output_type": "stream",
          "name": "stdout",
          "text": [
            "hello world!\n"
          ]
        }
      ],
      "source": [
        "print(\"hello world!\")"
      ]
    },
    {
      "cell_type": "markdown",
      "source": [
        "okay so let's see how numpy library works in python"
      ],
      "metadata": {
        "id": "xU1MYO9Vi8YB"
      }
    },
    {
      "cell_type": "code",
      "source": [
        "#importing numpy library with a nickname np\n",
        "import numpy as np  # numpy is a library containing many packages. packages are collection of modules.\n",
        "import time # time is a module containing time related functions. math is also a module as in math.sqrt\n",
        "\n",
        "x = np.random.rand(100000)\n",
        "start = time.time()\n",
        "print (start)\n",
        "#now let's do some calculaion where we find te mean of these instance of time"
      ],
      "metadata": {
        "colab": {
          "base_uri": "https://localhost:8080/"
        },
        "id": "c2Dt8HJxi7cG",
        "outputId": "a9cb040e-1860-42c0-9aec-ba0f579f45df"
      },
      "execution_count": 3,
      "outputs": [
        {
          "output_type": "stream",
          "name": "stdout",
          "text": [
            "1653840728.2472944\n"
          ]
        }
      ]
    },
    {
      "cell_type": "code",
      "source": [
        "mean = sum(x)/len(x) #since mean = total of all elements/no. of elements\n",
        "print (mean)\n",
        "print(time.time()-start)"
      ],
      "metadata": {
        "colab": {
          "base_uri": "https://localhost:8080/"
        },
        "id": "UGQbtphrlQ90",
        "outputId": "ef0904e4-81c9-4737-e84f-1f82a519c966"
      },
      "execution_count": 15,
      "outputs": [
        {
          "output_type": "stream",
          "name": "stdout",
          "text": [
            "0.5004645378823235\n",
            "179.48153042793274\n"
          ]
        }
      ]
    },
    {
      "cell_type": "code",
      "source": [
        "#let's do the same question using numpy attributes\n",
        "start = time.time()\n",
        "mean_numpy = np.mean(x)\n",
        "print (time.time()-start)\n"
      ],
      "metadata": {
        "colab": {
          "base_uri": "https://localhost:8080/"
        },
        "id": "vEGesxAzmcCs",
        "outputId": "45ea4317-e777-48cb-f7ea-c2390d4b1607"
      },
      "execution_count": 16,
      "outputs": [
        {
          "output_type": "stream",
          "name": "stdout",
          "text": [
            "0.0005137920379638672\n"
          ]
        }
      ]
    },
    {
      "cell_type": "markdown",
      "source": [
        "let's learn how to create numpy arrays"
      ],
      "metadata": {
        "id": "P9A95UN5nFV8"
      }
    },
    {
      "cell_type": "code",
      "source": [
        "a = np.array([\"hello\",'world'])\n",
        "print(a,\"\\n\", type(a)) # this will print the vaalue in array 'A' as well as the type of array\n",
        "\n",
        "print(a.ndim)# this prints the dimensiom of array \"a\". note that \"n\" in \"ndim \" or \"ndarray\" reperesents \"N-Dimensional array\"\n",
        "\n"
      ],
      "metadata": {
        "colab": {
          "base_uri": "https://localhost:8080/"
        },
        "id": "l_iDhtkZnMHJ",
        "outputId": "57cefbea-9811-44ec-80ba-dcf14fc60361"
      },
      "execution_count": 32,
      "outputs": [
        {
          "output_type": "stream",
          "name": "stdout",
          "text": [
            "['hello' 'world'] \n",
            " <class 'numpy.ndarray'>\n",
            "1\n"
          ]
        }
      ]
    },
    {
      "cell_type": "code",
      "source": [
        "b = np.array([[1,2,3],[4,5,6],[7,8,9]])\n",
        "print(b,\"\\n\\n\", b.ndim,\"\\n\"*2, type(b), \"\\n\"*2, b.shape,\"   - this tells the dimension (rows x columns)\")"
      ],
      "metadata": {
        "colab": {
          "base_uri": "https://localhost:8080/"
        },
        "id": "3lCCdtNRskci",
        "outputId": "cd397f3e-7bb7-4002-c7a2-c5ac7a111e4d"
      },
      "execution_count": 63,
      "outputs": [
        {
          "output_type": "stream",
          "name": "stdout",
          "text": [
            "[[1 2 3]\n",
            " [4 5 6]\n",
            " [7 8 9]] \n",
            "\n",
            " 2 \n",
            "\n",
            " <class 'numpy.ndarray'> \n",
            "\n",
            " (3, 3)    - this tells the dimension (rows x columns)\n"
          ]
        }
      ]
    },
    {
      "cell_type": "code",
      "source": [
        "#you'd be surprised to know that we can do all soughts of operations on this arra. let's take array b for this\n",
        "print(b+10,\"\\n\")\n",
        "print(b-10,\"\\n\")\n",
        "print(b*2,\"\\n\")\n",
        "print(b/10,\"\\n\")\n",
        "# NOTE : these are all TEMPERORY Values "
      ],
      "metadata": {
        "colab": {
          "base_uri": "https://localhost:8080/"
        },
        "id": "6eI3ePNyu_bG",
        "outputId": "07660de6-112a-4eec-f284-11817f2d1d9f"
      },
      "execution_count": 67,
      "outputs": [
        {
          "output_type": "stream",
          "name": "stdout",
          "text": [
            "[[11 12 13]\n",
            " [14 15 16]\n",
            " [17 18 19]] \n",
            "\n",
            "[[-9 -8 -7]\n",
            " [-6 -5 -4]\n",
            " [-3 -2 -1]] \n",
            "\n",
            "[[ 2  4  6]\n",
            " [ 8 10 12]\n",
            " [14 16 18]] \n",
            "\n",
            "[[0.1 0.2 0.3]\n",
            " [0.4 0.5 0.6]\n",
            " [0.7 0.8 0.9]] \n",
            "\n"
          ]
        }
      ]
    },
    {
      "cell_type": "code",
      "source": [
        "#lets now see permanent change in the value of b \n",
        "b = b+10\n",
        "print(b)"
      ],
      "metadata": {
        "colab": {
          "base_uri": "https://localhost:8080/"
        },
        "id": "ioDp6JhcxT0-",
        "outputId": "28eb54da-8506-4e41-dcfd-eef99c0257ba"
      },
      "execution_count": 70,
      "outputs": [
        {
          "output_type": "stream",
          "name": "stdout",
          "text": [
            "[[31 32 33]\n",
            " [34 35 36]\n",
            " [37 38 39]]\n"
          ]
        }
      ]
    },
    {
      "cell_type": "markdown",
      "source": [
        "___\n",
        "Let's view some more operations:\n",
        "namely:---\n",
        "\n",
        "***max, min, floor, ceil, mean, copy and view*** . they somewhat resemble pass by value and pass by reference."
      ],
      "metadata": {
        "id": "Q8MsLF59xZyT"
      }
    },
    {
      "cell_type": "code",
      "source": [
        "from numpy.lib.function_base import copy\n",
        "x=np.array([1,2,3,4,5,6])\n",
        "print(np.max(x))\n",
        "print(np.min(x))\n",
        "\n",
        "print(np.mean(x))\n",
        "\n",
        "print(np.floor(x),\"prints floor value\") \n",
        "print(np.ceil(x),\"prints ceil value\")"
      ],
      "metadata": {
        "colab": {
          "base_uri": "https://localhost:8080/"
        },
        "id": "BO2MpACwxXnR",
        "outputId": "d2e6bebb-2282-44e0-957f-a9a9614acf83"
      },
      "execution_count": 86,
      "outputs": [
        {
          "output_type": "stream",
          "name": "stdout",
          "text": [
            "6\n",
            "1\n",
            "3.5\n",
            "[1. 2. 3. 4. 5. 6.] prints floor value\n",
            "[1. 2. 3. 4. 5. 6.] prints ceil value\n"
          ]
        }
      ]
    },
    {
      "cell_type": "code",
      "source": [
        "#copy function\n",
        "x1= x.copy()\n",
        "print (\"prints copy array value--\",x1,\"\\n\",\"prints original value--\",x,\"\\n\"*2)\n",
        "x1[2]=40\n",
        "print (\"prints copy array value--\",x1,\"\\n\",\"prints original value--\",x)"
      ],
      "metadata": {
        "colab": {
          "base_uri": "https://localhost:8080/"
        },
        "id": "iE79CT1v0GJk",
        "outputId": "3f87e61b-0bce-4fa5-d56f-379768ed4f64"
      },
      "execution_count": 87,
      "outputs": [
        {
          "output_type": "stream",
          "name": "stdout",
          "text": [
            "prints copy array value-- [1 2 3 4 5 6] \n",
            " prints original value-- [1 2 3 4 5 6] \n",
            "\n",
            "\n",
            "prints copy array value-- [ 1  2 40  4  5  6] \n",
            " prints original value-- [1 2 3 4 5 6]\n"
          ]
        }
      ]
    },
    {
      "cell_type": "code",
      "source": [
        ""
      ],
      "metadata": {
        "id": "gqfsnHoR3cZ7"
      },
      "execution_count": null,
      "outputs": []
    },
    {
      "cell_type": "code",
      "source": [
        ""
      ],
      "metadata": {
        "id": "WI9zs5j_3fL-"
      },
      "execution_count": null,
      "outputs": []
    },
    {
      "cell_type": "code",
      "source": [
        "#view function\n",
        "x2= x.view()\n",
        "print (\"prints view array value--\",x2,\"\\n\",\"prints original value--\",x,\"\\n\"*2)\n",
        "x2[1]=40\n",
        "print (\"prints view array value--\",x2,\"\\n\",\"prints original value--\",x)"
      ],
      "metadata": {
        "colab": {
          "base_uri": "https://localhost:8080/"
        },
        "id": "c-M3psTI0ryz",
        "outputId": "50ccf52f-dd8d-47dd-b5a2-f2581e1bf47a"
      },
      "execution_count": 88,
      "outputs": [
        {
          "output_type": "stream",
          "name": "stdout",
          "text": [
            "prints view array value-- [1 2 3 4 5 6] \n",
            " prints original value-- [1 2 3 4 5 6] \n",
            "\n",
            "\n",
            "prints view array value-- [ 1 40  3  4  5  6] \n",
            " prints original value-- [ 1 40  3  4  5  6]\n"
          ]
        }
      ]
    }
  ]
}